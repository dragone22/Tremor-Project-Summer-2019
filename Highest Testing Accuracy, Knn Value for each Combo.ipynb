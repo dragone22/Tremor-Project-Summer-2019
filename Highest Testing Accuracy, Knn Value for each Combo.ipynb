{
 "cells": [
  {
   "cell_type": "markdown",
   "metadata": {},
   "source": [
    "# Highest Testing Accuracy, Knn Value for each Combo"
   ]
  },
  {
   "cell_type": "markdown",
   "metadata": {},
   "source": [
    "This file will tell you what the highest testing percent is for all combinations of the columns of a given df, the combinations that are better than the test accuracies found with all columns, and the combinations that are worse than 60% with the associated knn values.\n",
    "\n",
    "This file will also tell you the percent of the time a certain column name is excluded from the training data used in the best, better than using all of the columns, and worse than 60% in the df. \n",
    "\n",
    "*IMPORTANT*\n",
    "\n",
    "The Excluded column values are the columns that are *NOT* used in the training data. So if the possible columns are 'x', 'y', and 'z' and 'y' is excluded 100% of the time in best testing accuracy section, then the combinations of columns that produce the highest testing accuracy do *NOT* include the 'y' column. Therefore, the combination of columns that make the highest accuracy is 'x' and 'z'.\n",
    "\n",
    "Now let's look at another example, except this is for the worse section of testing accuracies, where the testing accuracy is below 60%. If the possible columns of the df are '1', '2', and '3' and column '3' is excluded 100% of the time, that indicates that column '3' is likely very important in raising the testing accuracy, since without using that column the testing accuracy is less than 60%."
   ]
  },
  {
   "cell_type": "code",
   "execution_count": 1,
   "metadata": {},
   "outputs": [],
   "source": [
    "#import necessary modules\n",
    "import pandas as pd\n",
    "import numpy as np\n",
    "import matplotlib.pyplot as plt\n",
    "from sklearn.neighbors import KNeighborsClassifier \n",
    "from sklearn import datasets \n",
    "from sklearn.model_selection import train_test_split\n",
    "from itertools import combinations\n",
    "import pickle\n",
    "import collections, itertools\n",
    "\n",
    "#create definition to find frequency of excluded elements and knn values\n",
    "def counts(data):\n",
    "    #create definitions for best, better_than_all, and worse dataframes\n",
    "    best = data[data.Test_Acc == data.Test_Acc.max()]\n",
    "    better_than_all = data[data.Test_Acc >= data.Test_Acc[0]]\n",
    "    worse = data[data.Test_Acc <= .6]\n",
    "    #create list of defined dataframes\n",
    "    frames = [best, better_than_all, worse]\n",
    "    #create list of labels\n",
    "    label = ['Best', 'Better_than_all', 'Worse']\n",
    "    #create list of the percents that the excluded elements are associated with, worse dfs are for percents less than 60\n",
    "    percent = [data.Test_Acc.max()*100,100*data.Test_Acc[0],100*.6]\n",
    "    per_label = ['Max Percent:','All Column Percent:','Below:']\n",
    "    #loop through length of frames\n",
    "    for i in range(len(frames)):\n",
    "        #print what df is being used\n",
    "        print(label[i] + ' excluded column frequency:')\n",
    "        #create df\n",
    "        ex = frames[i].Excluded\n",
    "        #print length of df and associated percent\n",
    "        print('Number of combinations:')\n",
    "        print(len(ex))\n",
    "        print(per_label[i])\n",
    "        print(percent[i])\n",
    "        freq = collections.defaultdict(int)  # 0 by default\n",
    "        for x in itertools.chain.from_iterable(ex):\n",
    "            freq[x] += 1/(len(ex))\n",
    "        print(freq)\n",
    "        print(label[i] + ' knn values')\n",
    "        kn = frames[i].Knn_val\n",
    "        freq = collections.defaultdict(int)  # 0 by default\n",
    "        for x in itertools.chain.from_iterable(kn):\n",
    "            freq[x] += 1/len(kn)\n",
    "        print(freq)\n",
    "\n",
    "#read df files\n",
    "distance = pd.read_csv('total_distances.csv')\n",
    "vel_freq = pd.read_csv('Velocity_Frequencies.csv')\n",
    "xyz_stats = pd.read_csv('xyz_stats.csv')"
   ]
  },
  {
   "cell_type": "markdown",
   "metadata": {},
   "source": [
    "## distance - Values for all columns and Combos"
   ]
  },
  {
   "cell_type": "markdown",
   "metadata": {},
   "source": [
    "All columns:"
   ]
  },
  {
   "cell_type": "code",
   "execution_count": 2,
   "metadata": {},
   "outputs": [
    {
     "data": {
      "image/png": "[encoded data removed]",
      "text/plain": [
       "<Figure size 432x288 with 1 Axes>"
      ]
     },
     "metadata": {},
     "output_type": "display_data"
    },
    {
     "name": "stdout",
     "output_type": "stream",
     "text": [
      "0.6410256410256411\n",
      "none\n",
      "[7]\n"
     ]
    }
   ],
   "source": [
    "#set target variable y and features X\n",
    "X = distance.drop(['older'], axis=1).values\n",
    "y = distance['older'].values\n",
    "\n",
    "#----------------------------------------------------------\n",
    "#Create a KNN model with knn = 3 neighbors that separates all the data into 30% test data and 70% training data\n",
    "#----------------------------------------------------------\n",
    "X_train, X_test, y_train, y_test = train_test_split(X, y, test_size=0.3, random_state=21, stratify=y)\n",
    "\n",
    "neighbors = np.arange(1, 9)\n",
    "train_accuracy = np.empty(len(neighbors))\n",
    "test_accuracy = np.empty(len(neighbors))\n",
    "\n",
    "# Loop over different values of k\n",
    "for i, k in enumerate(neighbors):\n",
    "    # Setup a k-NN Classifier with k neighbors: knn\n",
    "    knn = KNeighborsClassifier(n_neighbors=k)\n",
    "\n",
    "    # Fit the classifier to the training data\n",
    "    knn.fit(X_train, y_train)\n",
    "    \n",
    "    #Compute accuracy on the training set\n",
    "    train_accuracy[i] = knn.score(X_train, y_train)\n",
    "\n",
    "    #Compute accuracy on the testing set\n",
    "    test_accuracy[i] = knn.score(X_test, y_test)\n",
    "\n",
    "# Generate plot\n",
    "plt.title('k-NN: Varying Number of Neighbors')\n",
    "plt.plot(neighbors, test_accuracy, label = 'Testing Accuracy')\n",
    "plt.plot(neighbors, train_accuracy, label = 'Training Accuracy')\n",
    "plt.legend()\n",
    "plt.xlabel('Number of Neighbors')\n",
    "plt.ylabel('Accuracy')\n",
    "plt.show()\n",
    "\n",
    "#find max testing accuracy, and knn value of that\n",
    "max_test_acc0 = np.max(test_accuracy)\n",
    "excluded0 = 'none'\n",
    "knn_ideal0 = np.where(test_accuracy == test_accuracy.max())[0] + 1\n",
    "\n",
    "#print values\n",
    "print(max_test_acc0)\n",
    "print(excluded0)\n",
    "print(knn_ideal0)"
   ]
  },
  {
   "cell_type": "markdown",
   "metadata": {},
   "source": [
    "All: Combos\n",
    "\n",
    "Make a list of column names of the df. Before running through the loop that makes combinations of the column names, the 'older' column has to be dropped. This is the target column and it will always be dropped in the training data. Make sure that you are NOT dropping the 'older' column from the df. You are just dropping it from the list of column names that will be used to make the combinations."
   ]
  },
  {
   "cell_type": "code",
   "execution_count": 3,
   "metadata": {},
   "outputs": [],
   "source": [
    "#make list of column names to be made into a combination, dropping 'older'\n",
    "lst = distance.columns.drop('older')\n",
    "\n",
    "#make empty list\n",
    "combination = []\n",
    "\n",
    "for i in range(len(lst)):\n",
    "#make a combination of just one of the values in the list\n",
    "    for combo in combinations(lst, i): \n",
    "        combination.append(combo)"
   ]
  },
  {
   "cell_type": "code",
   "execution_count": 4,
   "metadata": {},
   "outputs": [],
   "source": [
    "#reset lists\n",
    "max_test_acc = []\n",
    "excluded = []\n",
    "knn_ideal = []\n",
    "\n",
    "#make variable for 'older' column\n",
    "old = ['older']\n",
    "\n",
    "#loop through the combinations\n",
    "for op in combination:\n",
    "    #drop combination and 'older' for training data\n",
    "    drop_col = old + list(op)\n",
    "    X = distance.drop(drop_col, axis=1).values\n",
    "    #set target\n",
    "    y = distance['older'].values\n",
    "\n",
    "#----------------------------------------------------------\n",
    "#Create a KNN model with knn = 3 neighbors that separates all the data into 30% test data and 70% training data\n",
    "#----------------------------------------------------------\n",
    "    X_train, X_test, y_train, y_test = train_test_split(X, y, test_size=0.3, random_state=21, stratify=y)\n",
    "\n",
    "#Code borrowed from DataCamp\n",
    "#----------------------------------------------------------\n",
    "# Optimizing machine learning model by finding the optimal number of neighbors\n",
    "#----------------------------------------------------------\n",
    "# Setup arrays to store train and test accuracies\n",
    "    neighbors = np.arange(1, 9)\n",
    "    train_accuracy = np.empty(len(neighbors))\n",
    "    test_accuracy = np.empty(len(neighbors))\n",
    "\n",
    "# Loop over different values of k\n",
    "    for i, k in enumerate(neighbors):\n",
    "    # Setup a k-NN Classifier with k neighbors: knn\n",
    "        knn = KNeighborsClassifier(n_neighbors=k)\n",
    "\n",
    "    # Fit the classifier to the training data\n",
    "        knn.fit(X_train, y_train)\n",
    "    \n",
    "    #Compute accuracy on the training set\n",
    "        train_accuracy[i] = knn.score(X_train, y_train)\n",
    "\n",
    "    #Compute accuracy on the testing set\n",
    "        test_accuracy[i] = knn.score(X_test, y_test)\n",
    "\n",
    "# Generate plot\n",
    "    #plt.title('k-NN: Varying Number of Neighbors')\n",
    "    #plt.plot(neighbors, test_accuracy, label = 'Testing Accuracy')\n",
    "    #plt.plot(neighbors, train_accuracy, label = 'Training Accuracy')\n",
    "    #plt.legend()\n",
    "    #plt.xlabel('Number of Neighbors')\n",
    "    #plt.ylabel('Accuracy')\n",
    "    #plt.show()\n",
    "\n",
    "#find knn value at the max testing accuracy\n",
    "    index = np.where(test_accuracy == test_accuracy.max())[0]\n",
    "    knn_val = index + 1\n",
    "    \n",
    "#print excluded columns, max testing accuracy, and knn value at the max testing accuracy\n",
    "    #print('Excluded columns:')\n",
    "    #print(old + list(op))\n",
    "    #print('Max Testing Accuracy:')\n",
    "    #print(test_accuracy.max())\n",
    "    #print('KNN value of Max Testing Accuracy:')\n",
    "    #print(knn_val)\n",
    "    \n",
    "#add the excluded columns, max test accuracy, and the knn value at the max testing accuracy\n",
    "    knn_ideal.append(knn_val)\n",
    "    max_test_acc.append(test_accuracy.max())\n",
    "    excluded.append(list(op))"
   ]
  },
  {
   "cell_type": "code",
   "execution_count": 5,
   "metadata": {},
   "outputs": [
    {
     "data": {
      "text/html": [
       "<div>\n",
       "<style scoped>\n",
       "    .dataframe tbody tr th:only-of-type {\n",
       "        vertical-align: middle;\n",
       "    }\n",
       "\n",
       "    .dataframe tbody tr th {\n",
       "        vertical-align: top;\n",
       "    }\n",
       "\n",
       "    .dataframe thead th {\n",
       "        text-align: right;\n",
       "    }\n",
       "</style>\n",
       "<table border=\"1\" class=\"dataframe\">\n",
       "  <thead>\n",
       "    <tr style=\"text-align: right;\">\n",
       "      <th></th>\n",
       "      <th>Excluded</th>\n",
       "      <th>Test_Acc</th>\n",
       "      <th>Knn_val</th>\n",
       "    </tr>\n",
       "  </thead>\n",
       "  <tbody>\n",
       "    <tr>\n",
       "      <th>10</th>\n",
       "      <td>[z_tot_d, tot_d]</td>\n",
       "      <td>0.615385</td>\n",
       "      <td>[1]</td>\n",
       "    </tr>\n",
       "    <tr>\n",
       "      <th>11</th>\n",
       "      <td>[x_tot_d, y_tot_d, z_tot_d]</td>\n",
       "      <td>0.589744</td>\n",
       "      <td>[3]</td>\n",
       "    </tr>\n",
       "    <tr>\n",
       "      <th>12</th>\n",
       "      <td>[x_tot_d, y_tot_d, tot_d]</td>\n",
       "      <td>0.564103</td>\n",
       "      <td>[1, 3]</td>\n",
       "    </tr>\n",
       "    <tr>\n",
       "      <th>13</th>\n",
       "      <td>[x_tot_d, z_tot_d, tot_d]</td>\n",
       "      <td>0.564103</td>\n",
       "      <td>[8]</td>\n",
       "    </tr>\n",
       "    <tr>\n",
       "      <th>14</th>\n",
       "      <td>[y_tot_d, z_tot_d, tot_d]</td>\n",
       "      <td>0.564103</td>\n",
       "      <td>[6]</td>\n",
       "    </tr>\n",
       "  </tbody>\n",
       "</table>\n",
       "</div>"
      ],
      "text/plain": [
       "                       Excluded  Test_Acc Knn_val\n",
       "10             [z_tot_d, tot_d]  0.615385     [1]\n",
       "11  [x_tot_d, y_tot_d, z_tot_d]  0.589744     [3]\n",
       "12    [x_tot_d, y_tot_d, tot_d]  0.564103  [1, 3]\n",
       "13    [x_tot_d, z_tot_d, tot_d]  0.564103     [8]\n",
       "14    [y_tot_d, z_tot_d, tot_d]  0.564103     [6]"
      ]
     },
     "execution_count": 5,
     "metadata": {},
     "output_type": "execute_result"
    }
   ],
   "source": [
    "#make empty df\n",
    "acc = pd.DataFrame()\n",
    "#add columns for excluded variable, max testing accuracy, and the knn value at that value\n",
    "acc['Excluded'] =  excluded\n",
    "acc['Test_Acc'] = max_test_acc\n",
    "acc['Knn_val'] = knn_ideal\n",
    "#acc.to_csv('attempt3.csv')\n",
    "acc.tail()"
   ]
  },
  {
   "cell_type": "code",
   "execution_count": 6,
   "metadata": {},
   "outputs": [
    {
     "data": {
      "image/png": "[encoded data removed]",
      "text/plain": [
       "<Figure size 432x288 with 1 Axes>"
      ]
     },
     "metadata": {},
     "output_type": "display_data"
    }
   ],
   "source": [
    "#add horizontal line for accuracy with all columns\n",
    "plt.axhline(acc.Test_Acc[0], linewidth=2, color='r')\n",
    "plt.plot(acc.Test_Acc)\n",
    "plt.show()"
   ]
  },
  {
   "cell_type": "code",
   "execution_count": 7,
   "metadata": {},
   "outputs": [
    {
     "name": "stdout",
     "output_type": "stream",
     "text": [
      "Best excluded column frequency:\n",
      "Number of combinations:\n",
      "1\n",
      "Max Percent:\n",
      "64.1025641025641\n",
      "defaultdict(<class 'int'>, {})\n",
      "Best knn values\n",
      "defaultdict(<class 'int'>, {7: 1.0})\n",
      "Better_than_all excluded column frequency:\n",
      "Number of combinations:\n",
      "1\n",
      "All Column Percent:\n",
      "64.1025641025641\n",
      "defaultdict(<class 'int'>, {})\n",
      "Better_than_all knn values\n",
      "defaultdict(<class 'int'>, {7: 1.0})\n",
      "Worse excluded column frequency:\n",
      "Number of combinations:\n",
      "10\n",
      "Below:\n",
      "60.0\n",
      "defaultdict(<class 'int'>, {'x_tot_d': 0.7, 'tot_d': 0.5, 'y_tot_d': 0.5, 'z_tot_d': 0.5})\n",
      "Worse knn values\n",
      "defaultdict(<class 'int'>, {8: 0.4, 6: 0.30000000000000004, 2: 0.2, 4: 0.1, 7: 0.1, 3: 0.30000000000000004, 1: 0.1})\n"
     ]
    }
   ],
   "source": [
    "counts(acc)"
   ]
  },
  {
   "cell_type": "markdown",
   "metadata": {},
   "source": [
    "The highest testing accuracy resulted from when all columns were used in the data, so no column will be removed when this df is combined with another df."
   ]
  },
  {
   "cell_type": "markdown",
   "metadata": {},
   "source": [
    "## vel_freq - Values for all columns and Combos"
   ]
  },
  {
   "cell_type": "markdown",
   "metadata": {},
   "source": [
    "All columns:"
   ]
  },
  {
   "cell_type": "code",
   "execution_count": 8,
   "metadata": {},
   "outputs": [
    {
     "data": {
      "image/png": "[encoded data removed]",
      "text/plain": [
       "<Figure size 432x288 with 1 Axes>"
      ]
     },
     "metadata": {},
     "output_type": "display_data"
    },
    {
     "name": "stdout",
     "output_type": "stream",
     "text": [
      "0.6410256410256411\n",
      "none\n",
      "[7 8]\n"
     ]
    }
   ],
   "source": [
    "#set target variable y and features X\n",
    "X = vel_freq.drop(['older'], axis=1).values\n",
    "y = vel_freq['older'].values\n",
    "\n",
    "#----------------------------------------------------------\n",
    "#Create a KNN model with knn = 3 neighbors that separates all the data into 30% test data and 70% training data\n",
    "#----------------------------------------------------------\n",
    "X_train, X_test, y_train, y_test = train_test_split(X, y, test_size=0.3, random_state=21, stratify=y)\n",
    "\n",
    "neighbors = np.arange(1, 9)\n",
    "train_accuracy = np.empty(len(neighbors))\n",
    "test_accuracy = np.empty(len(neighbors))\n",
    "\n",
    "# Loop over different values of k\n",
    "for i, k in enumerate(neighbors):\n",
    "    # Setup a k-NN Classifier with k neighbors: knn\n",
    "    knn = KNeighborsClassifier(n_neighbors=k)\n",
    "\n",
    "    # Fit the classifier to the training data\n",
    "    knn.fit(X_train, y_train)\n",
    "    \n",
    "    #Compute accuracy on the training set\n",
    "    train_accuracy[i] = knn.score(X_train, y_train)\n",
    "\n",
    "    #Compute accuracy on the testing set\n",
    "    test_accuracy[i] = knn.score(X_test, y_test)\n",
    "\n",
    "# Generate plot\n",
    "plt.title('k-NN: Varying Number of Neighbors')\n",
    "plt.plot(neighbors, test_accuracy, label = 'Testing Accuracy')\n",
    "plt.plot(neighbors, train_accuracy, label = 'Training Accuracy')\n",
    "plt.legend()\n",
    "plt.xlabel('Number of Neighbors')\n",
    "plt.ylabel('Accuracy')\n",
    "plt.show()\n",
    "\n",
    "#find max testing accuracy, and knn value of that\n",
    "max_test_acc0 = np.max(test_accuracy)\n",
    "excluded0 = 'none'\n",
    "knn_ideal0 = np.where(test_accuracy == test_accuracy.max())[0] + 1\n",
    "\n",
    "#print values\n",
    "print(max_test_acc0)\n",
    "print(excluded0)\n",
    "print(knn_ideal0)"
   ]
  },
  {
   "cell_type": "markdown",
   "metadata": {},
   "source": [
    "All Combos:\n",
    "\n",
    "Change the df to xyz_stats."
   ]
  },
  {
   "cell_type": "code",
   "execution_count": 9,
   "metadata": {},
   "outputs": [],
   "source": [
    "#make list of column names to be made into a combination, dropping 'older'\n",
    "lst = vel_freq.columns.drop('older')\n",
    "\n",
    "#make empty list\n",
    "combination = []\n",
    "\n",
    "for i in range(len(lst)):\n",
    "#make a combination of just one of the values in the list\n",
    "    for combo in combinations(lst, i): \n",
    "        combination.append(combo)"
   ]
  },
  {
   "cell_type": "code",
   "execution_count": 10,
   "metadata": {},
   "outputs": [],
   "source": [
    "#reset lists\n",
    "max_test_acc = []\n",
    "excluded = []\n",
    "knn_ideal = []\n",
    "\n",
    "#make variable for 'older' column\n",
    "old = ['older']\n",
    "\n",
    "#loop through the combinations\n",
    "for op in combination:\n",
    "    #drop combination and 'older' for training data\n",
    "    drop_col = old + list(op)\n",
    "    X = vel_freq.drop(drop_col, axis=1).values\n",
    "    #set target\n",
    "    y = vel_freq['older'].values\n",
    "\n",
    "#----------------------------------------------------------\n",
    "#Create a KNN model with knn = 3 neighbors that separates all the data into 30% test data and 70% training data\n",
    "#----------------------------------------------------------\n",
    "    X_train, X_test, y_train, y_test = train_test_split(X, y, test_size=0.3, random_state=21, stratify=y)\n",
    "\n",
    "#Code borrowed from DataCamp\n",
    "#----------------------------------------------------------\n",
    "# Optimizing machine learning model by finding the optimal number of neighbors\n",
    "#----------------------------------------------------------\n",
    "# Setup arrays to store train and test accuracies\n",
    "    neighbors = np.arange(1, 9)\n",
    "    train_accuracy = np.empty(len(neighbors))\n",
    "    test_accuracy = np.empty(len(neighbors))\n",
    "\n",
    "# Loop over different values of k\n",
    "    for i, k in enumerate(neighbors):\n",
    "    # Setup a k-NN Classifier with k neighbors: knn\n",
    "        knn = KNeighborsClassifier(n_neighbors=k)\n",
    "\n",
    "    # Fit the classifier to the training data\n",
    "        knn.fit(X_train, y_train)\n",
    "    \n",
    "    #Compute accuracy on the training set\n",
    "        train_accuracy[i] = knn.score(X_train, y_train)\n",
    "\n",
    "    #Compute accuracy on the testing set\n",
    "        test_accuracy[i] = knn.score(X_test, y_test)\n",
    "\n",
    "# Generate plot\n",
    "    #plt.title('k-NN: Varying Number of Neighbors')\n",
    "    #plt.plot(neighbors, test_accuracy, label = 'Testing Accuracy')\n",
    "    #plt.plot(neighbors, train_accuracy, label = 'Training Accuracy')\n",
    "    #plt.legend()\n",
    "    #plt.xlabel('Number of Neighbors')\n",
    "    #plt.ylabel('Accuracy')\n",
    "    #plt.show()\n",
    "\n",
    "#find knn value at the max testing accuracy\n",
    "    index = np.where(test_accuracy == test_accuracy.max())[0]\n",
    "    knn_val = index + 1\n",
    "    \n",
    "#print excluded columns, max testing accuracy, and knn value at the max testing accuracy\n",
    "    #print('Excluded columns:')\n",
    "    #print(old + list(op))\n",
    "    #print('Max Testing Accuracy:')\n",
    "    #print(test_accuracy.max())\n",
    "    #print('KNN value of Max Testing Accuracy:')\n",
    "    #print(knn_val)\n",
    "    \n",
    "#add the excluded columns, max test accuracy, and the knn value at the max testing accuracy\n",
    "    knn_ideal.append(knn_val)\n",
    "    max_test_acc.append(test_accuracy.max())\n",
    "    excluded.append(list(op))"
   ]
  },
  {
   "cell_type": "code",
   "execution_count": 11,
   "metadata": {},
   "outputs": [
    {
     "data": {
      "text/html": [
       "<div>\n",
       "<style scoped>\n",
       "    .dataframe tbody tr th:only-of-type {\n",
       "        vertical-align: middle;\n",
       "    }\n",
       "\n",
       "    .dataframe tbody tr th {\n",
       "        vertical-align: top;\n",
       "    }\n",
       "\n",
       "    .dataframe thead th {\n",
       "        text-align: right;\n",
       "    }\n",
       "</style>\n",
       "<table border=\"1\" class=\"dataframe\">\n",
       "  <thead>\n",
       "    <tr style=\"text-align: right;\">\n",
       "      <th></th>\n",
       "      <th>Excluded</th>\n",
       "      <th>Test_Acc</th>\n",
       "      <th>Knn_val</th>\n",
       "    </tr>\n",
       "  </thead>\n",
       "  <tbody>\n",
       "    <tr>\n",
       "      <th>0</th>\n",
       "      <td>[]</td>\n",
       "      <td>0.641026</td>\n",
       "      <td>[7, 8]</td>\n",
       "    </tr>\n",
       "    <tr>\n",
       "      <th>1</th>\n",
       "      <td>[xpsd avg]</td>\n",
       "      <td>0.641026</td>\n",
       "      <td>[7, 8]</td>\n",
       "    </tr>\n",
       "    <tr>\n",
       "      <th>2</th>\n",
       "      <td>[xfreq avg]</td>\n",
       "      <td>0.564103</td>\n",
       "      <td>[2]</td>\n",
       "    </tr>\n",
       "    <tr>\n",
       "      <th>3</th>\n",
       "      <td>[ypsd avg]</td>\n",
       "      <td>0.641026</td>\n",
       "      <td>[7, 8]</td>\n",
       "    </tr>\n",
       "    <tr>\n",
       "      <th>4</th>\n",
       "      <td>[yfreq avg]</td>\n",
       "      <td>0.615385</td>\n",
       "      <td>[2, 7]</td>\n",
       "    </tr>\n",
       "  </tbody>\n",
       "</table>\n",
       "</div>"
      ],
      "text/plain": [
       "      Excluded  Test_Acc Knn_val\n",
       "0           []  0.641026  [7, 8]\n",
       "1   [xpsd avg]  0.641026  [7, 8]\n",
       "2  [xfreq avg]  0.564103     [2]\n",
       "3   [ypsd avg]  0.641026  [7, 8]\n",
       "4  [yfreq avg]  0.615385  [2, 7]"
      ]
     },
     "execution_count": 11,
     "metadata": {},
     "output_type": "execute_result"
    }
   ],
   "source": [
    "#make empty df\n",
    "acc = pd.DataFrame()\n",
    "#add columns for excluded variable, max testing accuracy, and the knn value at that value\n",
    "acc['Excluded'] =  excluded\n",
    "acc['Test_Acc'] = max_test_acc\n",
    "acc['Knn_val'] = knn_ideal\n",
    "#acc.to_csv('attempt3.csv')\n",
    "acc.head()"
   ]
  },
  {
   "cell_type": "code",
   "execution_count": 12,
   "metadata": {},
   "outputs": [
    {
     "data": {
      "image/png": "[encoded data removed]",
      "text/plain": [
       "<Figure size 432x288 with 1 Axes>"
      ]
     },
     "metadata": {},
     "output_type": "display_data"
    }
   ],
   "source": [
    "#add horizontal line for accuracy with all columns\n",
    "plt.axhline(acc.Test_Acc[0], linewidth=2, color='r')\n",
    "plt.plot(acc.Test_Acc)\n",
    "plt.show()"
   ]
  },
  {
   "cell_type": "code",
   "execution_count": 13,
   "metadata": {},
   "outputs": [
    {
     "name": "stdout",
     "output_type": "stream",
     "text": [
      "Best excluded column frequency:\n",
      "Number of combinations:\n",
      "8\n",
      "Max Percent:\n",
      "74.35897435897436\n",
      "defaultdict(<class 'int'>, {'zfreq avg': 1.0, 'xpsd avg': 0.5, 'ypsd avg': 0.5, 'zpsd avg': 0.5})\n",
      "Best knn values\n",
      "defaultdict(<class 'int'>, {5: 1.0})\n",
      "Better_than_all excluded column frequency:\n",
      "Number of combinations:\n",
      "25\n",
      "All Column Percent:\n",
      "64.1025641025641\n",
      "defaultdict(<class 'int'>, {'xpsd avg': 0.5199999999999999, 'ypsd avg': 0.4799999999999999, 'zpsd avg': 0.5199999999999999, 'zfreq avg': 0.68, 'yfreq avg': 0.36, 'xfreq avg': 0.04})\n",
      "Better_than_all knn values\n",
      "defaultdict(<class 'int'>, {7: 0.64, 8: 0.32, 5: 0.64, 6: 0.32, 4: 0.04})\n",
      "Worse excluded column frequency:\n",
      "Number of combinations:\n",
      "20\n",
      "Below:\n",
      "60.0\n",
      "defaultdict(<class 'int'>, {'xfreq avg': 1.0000000000000002, 'xpsd avg': 0.49999999999999994, 'ypsd avg': 0.49999999999999994, 'yfreq avg': 0.6, 'zpsd avg': 0.39999999999999997, 'zfreq avg': 0.2})\n",
      "Worse knn values\n",
      "defaultdict(<class 'int'>, {2: 0.44999999999999996, 7: 0.39999999999999997, 8: 0.05, 4: 0.1, 5: 0.05, 3: 0.05})\n"
     ]
    }
   ],
   "source": [
    "counts(acc)"
   ]
  },
  {
   "cell_type": "markdown",
   "metadata": {},
   "source": [
    "The max testing percent was 74.36%\n",
    "\n",
    "To get the max testing percent the 'zfreq avg' column was excluded 100%. This means that the 'zfreq avg' column made the knn model worse and will be excluded in the next round.\n",
    "\n",
    "The 'xfreq avg' and 'yfreq avg' columns were never excluded from the max testing percent training features, so these columns must be important to predicting whether the subject is young or old. This is affirmed with 'xfreq avg' not being used in the worse testing accuracies 100% of the time and the 'yfreq avg' not being used 60% of the time."
   ]
  },
  {
   "cell_type": "markdown",
   "metadata": {},
   "source": [
    "## xyz_stats - Values for all columns and Combos"
   ]
  },
  {
   "cell_type": "markdown",
   "metadata": {},
   "source": [
    "All Columns:"
   ]
  },
  {
   "cell_type": "code",
   "execution_count": 14,
   "metadata": {},
   "outputs": [
    {
     "data": {
      "image/png": "[encoded data removed]",
      "text/plain": [
       "<Figure size 432x288 with 1 Axes>"
      ]
     },
     "metadata": {},
     "output_type": "display_data"
    },
    {
     "name": "stdout",
     "output_type": "stream",
     "text": [
      "0.6923076923076923\n",
      "none\n",
      "[5]\n"
     ]
    }
   ],
   "source": [
    "#set target variable y and features X\n",
    "X = xyz_stats.drop(['older'], axis=1).values\n",
    "y = xyz_stats['older'].values\n",
    "\n",
    "#----------------------------------------------------------\n",
    "#Create a KNN model with knn = 3 neighbors that separates all the data into 30% test data and 70% training data\n",
    "#----------------------------------------------------------\n",
    "X_train, X_test, y_train, y_test = train_test_split(X, y, test_size=0.3, random_state=21, stratify=y)\n",
    "\n",
    "neighbors = np.arange(1, 9)\n",
    "train_accuracy = np.empty(len(neighbors))\n",
    "test_accuracy = np.empty(len(neighbors))\n",
    "\n",
    "# Loop over different values of k\n",
    "for i, k in enumerate(neighbors):\n",
    "    # Setup a k-NN Classifier with k neighbors: knn\n",
    "    knn = KNeighborsClassifier(n_neighbors=k)\n",
    "\n",
    "    # Fit the classifier to the training data\n",
    "    knn.fit(X_train, y_train)\n",
    "    \n",
    "    #Compute accuracy on the training set\n",
    "    train_accuracy[i] = knn.score(X_train, y_train)\n",
    "\n",
    "    #Compute accuracy on the testing set\n",
    "    test_accuracy[i] = knn.score(X_test, y_test)\n",
    "\n",
    "# Generate plot\n",
    "plt.title('k-NN: Varying Number of Neighbors')\n",
    "plt.plot(neighbors, test_accuracy, label = 'Testing Accuracy')\n",
    "plt.plot(neighbors, train_accuracy, label = 'Training Accuracy')\n",
    "plt.legend()\n",
    "plt.xlabel('Number of Neighbors')\n",
    "plt.ylabel('Accuracy')\n",
    "plt.show()\n",
    "\n",
    "#find max testing accuracy, and knn value of that\n",
    "max_test_acc0 = np.max(test_accuracy)\n",
    "excluded0 = 'none'\n",
    "knn_ideal0 = np.where(test_accuracy == test_accuracy.max())[0] + 1\n",
    "\n",
    "#print values\n",
    "print(max_test_acc0)\n",
    "print(excluded0)\n",
    "print(knn_ideal0)"
   ]
  },
  {
   "cell_type": "markdown",
   "metadata": {},
   "source": [
    "All Combos:\n",
    "\n",
    "Use \"Get Test_Acc, Knn_val, and Combo with .pkl\" versions 1,2,3, and 4 to achieve the following:\n",
    "\n",
    "Since the number of combinations of the columns of the xyz_stats df is over 2 million, I suggest to break up the list of combinations into multiple segments and then run through them on different computers. Then you will have to save the \"Excluded\" and \"Knn_val\" columns using a pickle format, because if you save them as a csv, the any element that is a list is converted into an object. By saving the columns which have elements that are lists as a .pkl you will preserve their list type and will be able to use the counts() function on them.\n",
    "\n",
    "You will also have to save the \"Test_Acc\" column as a csv, so that you can combine it with the \"Excluded\" and \"Knn_val\" columns that were saved as a .pkl.\n",
    "\n",
    "These parts can be imported into this document for further analysis."
   ]
  },
  {
   "cell_type": "code",
   "execution_count": 15,
   "metadata": {},
   "outputs": [],
   "source": [
    "#make empty lists \n",
    "excluded = []\n",
    "knn = []\n",
    "dfs = []\n",
    "\n",
    "#loop through range to open .pkl files, note this depends on how files are named\n",
    "for i in range(1,5):\n",
    "    #open .pkl file\n",
    "    with open('xyz_stats_excluded' + str(i) + '.pkl', 'rb') as f:\n",
    "        excluded_columns = pickle.load(f)\n",
    "        #add file to empty list\n",
    "        excluded.append(excluded_columns)\n",
    "    #open .pkl file\n",
    "    with open('xyz_stats_knn_val' + str(i) + '.pkl', 'rb') as f:\n",
    "        knn_values = pickle.load(f)\n",
    "        #add file to empty list\n",
    "        knn.append(knn_values)\n",
    "    df = pd.read_csv('xyz_stats' + str(i) + '.csv')\n",
    "    dfs.append(df)\n",
    "\n",
    "#combine elements in list\n",
    "excluded_con = pd.concat(excluded, axis=0)\n",
    "knn_con = pd.concat(knn, axis=0)\n",
    "df_csv = pd.concat(dfs, axis=0, sort=True)\n",
    "\n",
    "#select for columns\n",
    "df_csv = df_csv[['Excluded','Knn_val','Test_Acc']]\n",
    "#add index\n",
    "df_csv.index = range(len(df_csv.Excluded))\n",
    "\n",
    "#make empty dataframe\n",
    "acc = pd.DataFrame()\n",
    "#add columns\n",
    "acc['Excluded'] = excluded_con\n",
    "acc['Test_Acc'] = df_csv.Test_Acc\n",
    "acc['Knn_val'] = knn_con"
   ]
  },
  {
   "cell_type": "code",
   "execution_count": 16,
   "metadata": {},
   "outputs": [
    {
     "data": {
      "image/png": "[encoded data removed]",
      "text/plain": [
       "<Figure size 432x288 with 1 Axes>"
      ]
     },
     "metadata": {},
     "output_type": "display_data"
    }
   ],
   "source": [
    "#add horizontal line for accuracy with all columns\n",
    "plt.axhline(acc.Test_Acc[0], linewidth=2, color='r')\n",
    "plt.plot(acc.Test_Acc)\n",
    "plt.show()"
   ]
  },
  {
   "cell_type": "code",
   "execution_count": 17,
   "metadata": {},
   "outputs": [
    {
     "name": "stdout",
     "output_type": "stream",
     "text": [
      "Best excluded column frequency:\n",
      "Number of combinations:\n",
      "81\n",
      "Max Percent:\n",
      "79.48717948717949\n",
      "defaultdict(<class 'int'>, {'xmean': 0.3333333333333333, 'xstd': 1.0000000000000022, 'xmin': 0.3333333333333333, 'x25%': 1.0000000000000022, 'x50%': 0.6666666666666674, 'x75%': 0.3333333333333333, 'xmax': 1.0000000000000022, 'ystd': 1.0000000000000022, 'y25%': 1.0000000000000022, 'y50%': 0.6666666666666674, 'ymax': 1.0000000000000022, 'zstd': 1.0000000000000022, 'z25%': 1.0000000000000022, 'zmax': 1.0000000000000022, 'z50%': 0.6666666666666674, 'y75%': 0.3333333333333333, 'z75%': 0.3333333333333333, 'ymin': 0.3333333333333333, 'zmin': 0.3333333333333333, 'ymean': 0.3333333333333333, 'zmean': 0.3333333333333333})\n",
      "Best knn values\n",
      "defaultdict(<class 'int'>, {5: 1.0000000000000022})\n",
      "Better_than_all excluded column frequency:\n",
      "Number of combinations:\n",
      "941871\n",
      "All Column Percent:\n",
      "69.23076923076923\n",
      "defaultdict(<class 'int'>, {'xmean': 0.5014986128724882, 'xstd': 0.5206774600823675, 'x25%': 0.5316046465019909, 'x50%': 0.4891391708679375, 'ymean': 0.5014986128724882, 'ystd': 0.5206774600823675, 'y25%': 0.5316046465019909, 'y50%': 0.4891391708679375, 'zmean': 0.5014986128724882, 'zstd': 0.5206774600823675, 'z25%': 0.5316046465019909, 'z50%': 0.4891391708679375, 'xmin': 0.38647330685659415, 'x75%': 0.49659348255198105, 'ymin': 0.38647330685659415, 'y75%': 0.49659348255198105, 'zmin': 0.38647330685659415, 'z75%': 0.49659348255198105, 'xmax': 0.4560762567313758, 'ymax': 0.4560762567313758, 'zmax': 0.4560762567313758})\n",
      "Better_than_all knn values\n",
      "defaultdict(<class 'int'>, {5: 0.2946772965728163, 1: 0.2726233210278865, 3: 0.14425117664698717, 7: 0.3610069744177011, 6: 0.10084395846119186, 4: 0.03670672523093778, 8: 0.12411572285348339, 2: 0.0010224330083418883})\n",
      "Worse excluded column frequency:\n",
      "Number of combinations:\n",
      "275409\n",
      "Below:\n",
      "60.0\n",
      "defaultdict(<class 'int'>, {'xmin': 0.9647615001651987, 'ymin': 0.9647615001651987, 'zmin': 0.9647615001651987, 'xmean': 0.5035020642015341, 'xstd': 0.5164246629545918, 'x25%': 0.48880392434416475, 'x50%': 0.4935677483295572, 'x75%': 0.5142388229856846, 'xmax': 0.5332723331468333, 'ymean': 0.5035020642015341, 'ystd': 0.5164246629545918, 'y25%': 0.48880392434416475, 'y50%': 0.4935677483295572, 'y75%': 0.5142388229856846, 'ymax': 0.5332723331468333, 'zmean': 0.5035020642015341, 'zstd': 0.5164246629545918, 'z25%': 0.48880392434416475, 'z50%': 0.4935677483295572, 'z75%': 0.5142388229856846, 'zmax': 0.5332723331468333})\n",
      "Worse knn values\n",
      "defaultdict(<class 'int'>, {5: 0.3568510832975592, 7: 0.32440116336047675, 6: 0.2003093580820696, 8: 0.3514046381923087, 4: 0.14374984114531258, 2: 0.11131444506164849, 1: 0.08655127464968158, 3: 0.04547055470228927})\n"
     ]
    }
   ],
   "source": [
    "counts(acc)"
   ]
  },
  {
   "cell_type": "markdown",
   "metadata": {},
   "source": [
    "The max testing percent was 79.49%\n",
    "\n",
    "To get the max testing percent the 'xstd', 'x25%', 'xmax', 'ystd', 'y25%', 'ymax', 'zstd', 'z25%', and 'zmax' columns were excluded 100%. The 'x50%', 'y50%', and 'z50%' were excluded 66.6% of the time. This means that these columns made the knn model worse and will be excluded in the next round.\n",
    "\n",
    "The columns associated with mean, min, and 75% were excluded from the max testing percent training features the least at 33%, so these columns must be important to predicting whether the subject is young or old. This is affirmed with the min columns not being used in the worse testing accuracies 96% of the time. The mean and 75% columns may not be as important since they were only excluded around 50% of the time when the testing accuracy was below 60%."
   ]
  },
  {
   "cell_type": "markdown",
   "metadata": {},
   "source": [
    "## adjust dfs"
   ]
  },
  {
   "cell_type": "code",
   "execution_count": 18,
   "metadata": {},
   "outputs": [
    {
     "name": "stdout",
     "output_type": "stream",
     "text": [
      "Index(['xpsd avg', 'xfreq avg', 'ypsd avg', 'yfreq avg', 'zpsd avg', 'older'], dtype='object')\n",
      "Index(['xmean', 'xmin', 'x75%', 'ymean', 'ymin', 'y75%', 'zmean', 'zmin',\n",
      "       'z75%', 'older'],\n",
      "      dtype='object')\n",
      "Index(['x_tot_d', 'y_tot_d', 'z_tot_d', 'tot_d', 'older'], dtype='object')\n"
     ]
    }
   ],
   "source": [
    "#adjust dfs, distance doesn't need adjusting\n",
    "vel_freq_ad = vel_freq.drop(['zfreq avg'], axis=1)\n",
    "xyz_stats_ad = xyz_stats.drop(['xstd', 'x25%', 'xmax', 'ystd', 'y25%', 'ymax', 'zstd', 'z25%','zmax', 'x50%', 'y50%', 'z50%'], axis=1)\n",
    "\n",
    "print(vel_freq_ad.columns)\n",
    "print(xyz_stats_ad.columns)\n",
    "print(distance.columns)"
   ]
  },
  {
   "cell_type": "markdown",
   "metadata": {},
   "source": [
    "Before combining dfs, drop one of the 'older' columns."
   ]
  },
  {
   "cell_type": "code",
   "execution_count": 19,
   "metadata": {},
   "outputs": [],
   "source": [
    "#drop one of the older\n",
    "vel_freq_ad = vel_freq_ad.drop(['older'], axis=1)"
   ]
  },
  {
   "cell_type": "code",
   "execution_count": 20,
   "metadata": {},
   "outputs": [],
   "source": [
    "#combine\n",
    "vel_dist = pd.concat([vel_freq_ad, distance], axis=1)"
   ]
  },
  {
   "cell_type": "markdown",
   "metadata": {},
   "source": [
    "All Columns:"
   ]
  },
  {
   "cell_type": "code",
   "execution_count": 21,
   "metadata": {},
   "outputs": [
    {
     "data": {
      "image/png": "[encoded data removed]",
      "text/plain": [
       "<Figure size 432x288 with 1 Axes>"
      ]
     },
     "metadata": {},
     "output_type": "display_data"
    },
    {
     "name": "stdout",
     "output_type": "stream",
     "text": [
      "0.6923076923076923\n",
      "none\n",
      "[7]\n"
     ]
    }
   ],
   "source": [
    "#set target variable y and features X\n",
    "X = vel_dist.drop(['older'], axis=1).values\n",
    "y = vel_dist['older'].values\n",
    "\n",
    "#----------------------------------------------------------\n",
    "#Create a KNN model with knn = 3 neighbors that separates all the data into 30% test data and 70% training data\n",
    "#----------------------------------------------------------\n",
    "X_train, X_test, y_train, y_test = train_test_split(X, y, test_size=0.3, random_state=21, stratify=y)\n",
    "\n",
    "neighbors = np.arange(1, 9)\n",
    "train_accuracy = np.empty(len(neighbors))\n",
    "test_accuracy = np.empty(len(neighbors))\n",
    "\n",
    "# Loop over different values of k\n",
    "for i, k in enumerate(neighbors):\n",
    "    # Setup a k-NN Classifier with k neighbors: knn\n",
    "    knn = KNeighborsClassifier(n_neighbors=k)\n",
    "\n",
    "    # Fit the classifier to the training data\n",
    "    knn.fit(X_train, y_train)\n",
    "    \n",
    "    #Compute accuracy on the training set\n",
    "    train_accuracy[i] = knn.score(X_train, y_train)\n",
    "\n",
    "    #Compute accuracy on the testing set\n",
    "    test_accuracy[i] = knn.score(X_test, y_test)\n",
    "\n",
    "# Generate plot\n",
    "plt.title('k-NN: Varying Number of Neighbors')\n",
    "plt.plot(neighbors, test_accuracy, label = 'Testing Accuracy')\n",
    "plt.plot(neighbors, train_accuracy, label = 'Training Accuracy')\n",
    "plt.legend()\n",
    "plt.xlabel('Number of Neighbors')\n",
    "plt.ylabel('Accuracy')\n",
    "plt.show()\n",
    "\n",
    "#find max testing accuracy, and knn value of that\n",
    "max_test_acc0 = np.max(test_accuracy)\n",
    "excluded0 = 'none'\n",
    "knn_ideal0 = np.where(test_accuracy == test_accuracy.max())[0] + 1\n",
    "\n",
    "#print values\n",
    "print(max_test_acc0)\n",
    "print(excluded0)\n",
    "print(knn_ideal0)"
   ]
  },
  {
   "cell_type": "markdown",
   "metadata": {},
   "source": [
    "All Combos:"
   ]
  },
  {
   "cell_type": "code",
   "execution_count": 22,
   "metadata": {},
   "outputs": [],
   "source": [
    "#make list of column names to be made into a combination, dropping 'older'\n",
    "lst = vel_dist.columns.drop('older')\n",
    "\n",
    "#make empty list\n",
    "combination = []\n",
    "\n",
    "for i in range(len(lst)):\n",
    "#make a combination of just one of the values in the list\n",
    "    for combo in combinations(lst, i): \n",
    "        combination.append(combo)"
   ]
  },
  {
   "cell_type": "code",
   "execution_count": 23,
   "metadata": {},
   "outputs": [],
   "source": [
    "#reset lists\n",
    "max_test_acc = []\n",
    "excluded = []\n",
    "knn_ideal = []\n",
    "\n",
    "#make variable for 'older' column\n",
    "old = ['older']\n",
    "\n",
    "#loop through the combinations\n",
    "for op in combination:\n",
    "    #drop combination and 'older' for training data\n",
    "    drop_col = old + list(op)\n",
    "    X = vel_dist.drop(drop_col, axis=1).values\n",
    "    #set target\n",
    "    y = vel_dist['older'].values\n",
    "\n",
    "#----------------------------------------------------------\n",
    "#Create a KNN model with knn = 3 neighbors that separates all the data into 30% test data and 70% training data\n",
    "#----------------------------------------------------------\n",
    "    X_train, X_test, y_train, y_test = train_test_split(X, y, test_size=0.3, random_state=21, stratify=y)\n",
    "\n",
    "#Code borrowed from DataCamp\n",
    "#----------------------------------------------------------\n",
    "# Optimizing machine learning model by finding the optimal number of neighbors\n",
    "#----------------------------------------------------------\n",
    "# Setup arrays to store train and test accuracies\n",
    "    neighbors = np.arange(1, 9)\n",
    "    train_accuracy = np.empty(len(neighbors))\n",
    "    test_accuracy = np.empty(len(neighbors))\n",
    "\n",
    "# Loop over different values of k\n",
    "    for i, k in enumerate(neighbors):\n",
    "    # Setup a k-NN Classifier with k neighbors: knn\n",
    "        knn = KNeighborsClassifier(n_neighbors=k)\n",
    "\n",
    "    # Fit the classifier to the training data\n",
    "        knn.fit(X_train, y_train)\n",
    "    \n",
    "    #Compute accuracy on the training set\n",
    "        train_accuracy[i] = knn.score(X_train, y_train)\n",
    "\n",
    "    #Compute accuracy on the testing set\n",
    "        test_accuracy[i] = knn.score(X_test, y_test)\n",
    "\n",
    "# Generate plot\n",
    "    #plt.title('k-NN: Varying Number of Neighbors')\n",
    "    #plt.plot(neighbors, test_accuracy, label = 'Testing Accuracy')\n",
    "    #plt.plot(neighbors, train_accuracy, label = 'Training Accuracy')\n",
    "    #plt.legend()\n",
    "    #plt.xlabel('Number of Neighbors')\n",
    "    #plt.ylabel('Accuracy')\n",
    "    #plt.show()\n",
    "\n",
    "#find knn value at the max testing accuracy\n",
    "    index = np.where(test_accuracy == test_accuracy.max())[0]\n",
    "    knn_val = index + 1\n",
    "    \n",
    "#print excluded columns, max testing accuracy, and knn value at the max testing accuracy\n",
    "    #print('Excluded columns:')\n",
    "    #print(old + list(op))\n",
    "    #print('Max Testing Accuracy:')\n",
    "    #print(test_accuracy.max())\n",
    "    #print('KNN value of Max Testing Accuracy:')\n",
    "    #print(knn_val)\n",
    "    \n",
    "#add the excluded columns, max test accuracy, and the knn value at the max testing accuracy\n",
    "    knn_ideal.append(knn_val)\n",
    "    max_test_acc.append(test_accuracy.max())\n",
    "    excluded.append(list(op))"
   ]
  },
  {
   "cell_type": "code",
   "execution_count": 24,
   "metadata": {},
   "outputs": [
    {
     "data": {
      "image/png": "[encoded data removed]",
      "text/plain": [
       "<Figure size 432x288 with 1 Axes>"
      ]
     },
     "metadata": {},
     "output_type": "display_data"
    },
    {
     "name": "stdout",
     "output_type": "stream",
     "text": [
      "Best excluded column frequency:\n",
      "Number of combinations:\n",
      "16\n",
      "Max Percent:\n",
      "76.92307692307693\n",
      "defaultdict(<class 'int'>, {'z_tot_d': 0.5, 'tot_d': 1.0, 'xpsd avg': 0.5, 'ypsd avg': 0.5, 'yfreq avg': 0.5, 'x_tot_d': 0.5, 'zpsd avg': 0.5})\n",
      "Best knn values\n",
      "defaultdict(<class 'int'>, {8: 0.5, 3: 0.5})\n",
      "Better_than_all excluded column frequency:\n",
      "Number of combinations:\n",
      "224\n",
      "All Column Percent:\n",
      "69.23076923076923\n",
      "defaultdict(<class 'int'>, {'xpsd avg': 0.4999999999999994, 'xfreq avg': 0.14285714285714285, 'ypsd avg': 0.4999999999999994, 'yfreq avg': 0.4285714285714282, 'zpsd avg': 0.4999999999999994, 'x_tot_d': 0.3928571428571426, 'y_tot_d': 0.535714285714285, 'z_tot_d': 0.3928571428571426, 'tot_d': 0.4285714285714282})\n",
      "Better_than_all knn values\n",
      "defaultdict(<class 'int'>, {7: 0.2500000000000003, 3: 0.28571428571428586, 5: 0.28571428571428586, 4: 0.17857142857142866, 1: 0.10714285714285711, 8: 0.14285714285714285, 6: 0.10714285714285711, 2: 0.035714285714285705})\n",
      "Worse excluded column frequency:\n",
      "Number of combinations:\n",
      "100\n",
      "Below:\n",
      "60.0\n",
      "defaultdict(<class 'int'>, {'xfreq avg': 1.0000000000000007, 'yfreq avg': 0.8400000000000005, 'x_tot_d': 0.6800000000000004, 'tot_d': 0.6000000000000003, 'xpsd avg': 0.5000000000000002, 'ypsd avg': 0.5000000000000002, 'zpsd avg': 0.48000000000000026, 'y_tot_d': 0.5200000000000002, 'z_tot_d': 0.6000000000000003})\n",
      "Worse knn values\n",
      "defaultdict(<class 'int'>, {8: 0.2700000000000001, 6: 0.24000000000000007, 2: 0.25000000000000006, 4: 0.09999999999999999, 7: 0.08, 3: 0.25000000000000006, 5: 0.09, 1: 0.13999999999999999})\n",
      "Index(['xpsd avg', 'xfreq avg', 'ypsd avg', 'yfreq avg', 'zpsd avg', 'x_tot_d',\n",
      "       'y_tot_d', 'z_tot_d', 'tot_d', 'older'],\n",
      "      dtype='object')\n"
     ]
    }
   ],
   "source": [
    "#make empty df\n",
    "acc = pd.DataFrame()\n",
    "#add columns for excluded variable, max testing accuracy, and the knn value at that value\n",
    "acc['Excluded'] =  excluded\n",
    "acc['Test_Acc'] = max_test_acc\n",
    "acc['Knn_val'] = knn_ideal\n",
    "#acc.to_csv('attempt3.csv')\n",
    "\n",
    "#add horizontal line for accuracy with all columns\n",
    "plt.axhline(acc.Test_Acc[0], linewidth=2, color='r')\n",
    "plt.plot(acc.Test_Acc)\n",
    "plt.show()\n",
    "counts(acc)\n",
    "print(vel_dist.columns)"
   ]
  },
  {
   "cell_type": "markdown",
   "metadata": {},
   "source": [
    "The max testing accuracy increased from in the 60s for both of them before to 76.92%.\n",
    "\n",
    "'tot_d' was excluded from all of the best testing accuracy combinations, so it will not be in the next round.\n",
    "\n",
    "'xfreq avg' and 'yfreq avg' remain important with 'x_tot_d' also being important."
   ]
  },
  {
   "cell_type": "markdown",
   "metadata": {},
   "source": [
    "## Continue Using other Feature Dfs"
   ]
  }
 ],
 "metadata": {
  "kernelspec": {
   "display_name": "Python 3",
   "language": "python",
   "name": "python3"
  },
  "language_info": {
   "codemirror_mode": {
    "name": "ipython",
    "version": 3
   },
   "file_extension": ".py",
   "mimetype": "text/x-python",
   "name": "python",
   "nbconvert_exporter": "python",
   "pygments_lexer": "ipython3",
   "version": "3.6.5"
  }
 },
 "nbformat": 4,
 "nbformat_minor": 2
}
