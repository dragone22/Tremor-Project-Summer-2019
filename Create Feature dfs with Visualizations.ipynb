{
 "cells": [
  {
   "cell_type": "markdown",
   "metadata": {},
   "source": [
    "# Make Feature Dataframes for machine learning"
   ]
  },
  {
   "cell_type": "markdown",
   "metadata": {},
   "source": [
    "This notebook's goal is to make dfs for machine learning algorithm. These will be exported and then combined in different ways to find the optimal combination of columns to be used in a machine learning algorithm. \n",
    "\n",
    "Thing to follow up on:\n",
    "\n",
    "See how scaling (making the mean equal to 0 and the variance equal to 1) impacts the testing accuracy of machine learning models."
   ]
  },
  {
   "cell_type": "markdown",
   "metadata": {},
   "source": [
    "### Combining csv data files into one df"
   ]
  },
  {
   "cell_type": "code",
   "execution_count": 13,
   "metadata": {},
   "outputs": [
    {
     "name": "stdout",
     "output_type": "stream",
     "text": [
      "Number of spreadsheets: 128\n"
     ]
    }
   ],
   "source": [
    "#import necessary modules\n",
    "import pandas as pd\n",
    "import numpy as np\n",
    "import datetime\n",
    "import matplotlib.pyplot as plt\n",
    "import os\n",
    "from scipy.signal import periodogram    # routine to find power spectrum\n",
    "from scipy.signal import savgol_filter  # routine to smooth power spectrum\n",
    "from sklearn.neighbors import KNeighborsClassifier \n",
    "from sklearn import datasets \n",
    "from sklearn.model_selection import train_test_split\n",
    "from itertools import combinations\n",
    "\n",
    "#find where the files combining from\n",
    "path = os.getcwd()\n",
    "files = os.listdir(path)\n",
    "#get the files that end with '.xlsx' and '.xls'\n",
    "csvfiles = [os.path.join(root, name)\n",
    "             for root, dirs, files in os.walk(path)\n",
    "             for name in files\n",
    "             if name.endswith((\".csv\"))]\n",
    "print('Number of spreadsheets: ' + str(len(csvfiles)))"
   ]
  },
  {
   "cell_type": "code",
   "execution_count": 14,
   "metadata": {},
   "outputs": [
    {
     "name": "stdout",
     "output_type": "stream",
     "text": [
      "With Nans: 256781\n",
      "Without Nans: 256779\n"
     ]
    }
   ],
   "source": [
    "#make empty list\n",
    "subfiles = []\n",
    "#loop through csvfiles (location of csv files)\n",
    "for i in range(len(csvfiles)):\n",
    "    #read csv file\n",
    "    file = pd.read_csv(csvfiles[i])\n",
    "    #add df into subfiles\n",
    "    subfiles.append(file)\n",
    "\n",
    "#combine subfiles into one file\n",
    "allfiles = pd.concat(subfiles[:], sort=True)\n",
    "\n",
    "#select columns\n",
    "allfiles = allfiles[['time','x','y','z','subject','attempt']]\n",
    "print('With Nans: ' + str(len(allfiles)))\n",
    "#drop nan rows\n",
    "allfiles = allfiles.dropna()\n",
    "print('Without Nans: ' + str(len(allfiles)))\n",
    "\n",
    "#array of first character in attempt column, change into float, divide be 10\n",
    "first = allfiles.attempt.astype(str).str[0].values.astype(float)/10\n",
    "#array of subject numbers\n",
    "subject = allfiles.subject.values\n",
    "\n",
    "#make empty array\n",
    "Id = []\n",
    "#loop through length of allfiles\n",
    "for i in range(len(allfiles.subject)):\n",
    "    #make sure decimal is float\n",
    "    decimal = float(first[i])\n",
    "    #make sure sub is float\n",
    "    sub = float(subject[i])\n",
    "    #add both\n",
    "    idnum = sub + decimal\n",
    "    #add it to a new array\n",
    "    Id.append(idnum)\n",
    "\n",
    "#add ID column of new numbers\n",
    "allfiles['ID']=Id"
   ]
  },
  {
   "cell_type": "markdown",
   "metadata": {},
   "source": [
    "### Get the x,y, and z velocity frequencies and make df"
   ]
  },
  {
   "cell_type": "code",
   "execution_count": 15,
   "metadata": {},
   "outputs": [],
   "source": [
    "#make variable to loop through with all subject names and attempts\n",
    "subject = np.unique(allfiles.ID)\n",
    "\n",
    "#make empty lists (may not be necessary)\n",
    "tremor_ns = [] # list to hold the resampled dataframe for each subject\n",
    "divsec_ns = 0.100  # value of resampling time chosen\n",
    "tremor_label_ns = [] # list to hold the plot labels for each subject\n",
    "tremor_vel_ns = []  # list to hold the velocity dataframes for each subject\n",
    "f_ns = []     # lists to contain all power spectra\n",
    "psd_ns = []   # lists to contain all power spectra\n",
    "favg_ns = []\n",
    "psdtot_ns = []\n",
    "\n",
    "for ol in range(len(subfiles)):\n",
    "    #loop through list of csv files\n",
    "    tremor = subfiles[ol]\n",
    "# read in subject, convert to datetime, remove unnecessary columns\n",
    "    tremor.index = pd.to_datetime(tremor.time, unit='s')\n",
    "    tremor = tremor.drop(['subject','attempt'],axis=1)\n",
    "\n",
    "    # create list of resampled time series for current subject\n",
    "    tremor_ns.append(tremor.resample('100ms').mean())\n",
    "    tremor_label_ns.append(['subject '+str(subject[ol])+', sampling rate = 0.1 s'])\n",
    "\n",
    "    # subtract off position offset from each time series for current subject    \n",
    "    tremor_ns[ol] = tremor_ns[ol] - tremor_ns[ol].iloc[0,0:4]\n",
    "\n",
    "    # calculate velocity dataframe for each time series\n",
    "    displacement = tremor_ns[ol].iloc[:,1:].diff()\n",
    "    velocity = displacement.div(divsec_ns)\n",
    "    velocity = velocity.drop(velocity.index[0],axis=0)  # get rid of first row w/ no data\n",
    "    velocity.rename(columns = {'x':'vx'}, inplace = True) # rename columns\n",
    "    velocity.rename(columns = {'y':'vy'}, inplace = True)\n",
    "    velocity.rename(columns = {'z':'vz'}, inplace = True)\n",
    "    tremor_vel_ns.append(velocity)\n",
    "\n",
    "    # code to record power spectra in all three directions and\n",
    "    # calculate measures (avg frequency and total summed power) from the power spectra\n",
    "\n",
    "    f_coord = []  # list to contain x,y,z coordinates\n",
    "    psd_coord = []  # list to contain x,y,z coordinates\n",
    "    favg_coord = []  # average value of frequency (weighted by amplitude)\n",
    "    psdtot_coord = []  # total summed amplitude\n",
    "    for lo in range(3):  # 3 is for 3 dimensions (x,y,z)\n",
    "        velocity_array = tremor_vel_ns[ol].to_numpy()  # convert df to numpy array\n",
    "        varray = velocity_array[:,lo]  # extract appropriate coordinate (x,y,z) from array\n",
    "        t_array = np.arange(len(varray))*divsec_ns  # create time array matching freq\n",
    "        sample_freq = 1.0/divsec_ns  # find sample frequency in Hertz\n",
    "        # use periodogram to find the power spectrum of current coordinate x,y,z\n",
    "        f, psd = periodogram(varray, fs=sample_freq, window=None, nfft=None,\\\n",
    "            detrend='constant', return_onesided=True, scaling='density', axis=-1)\n",
    "        psd_filter = savgol_filter(psd,5,3)  # do a little smoothing to make plot easier to read\n",
    "        f_coord.append(f)   # add to coordinate lists\n",
    "        psd_coord.append(psd_filter)\n",
    "        # calculate average value of psd\n",
    "        nf = len(f)   # numbery of frequency\n",
    "        df = f[1]-f[0]  # frequency interval\n",
    "        frange = f[-1]-f[0] # range of frequencies\n",
    "        psd_tot = 0.0  # start integral at zero\n",
    "        for il in range(nf):\n",
    "            psd_tot += psd[il]*df  # multiply value by df within integral\n",
    "        psdtot_coord.append(psd_tot/frange)  # divide by range to get average value\n",
    "        favg_tot = 0.0   # start integral at zero\n",
    "        for il in range(nf):\n",
    "            favg_tot += f[il]*psd[il]*df  # add weighted sum of f \n",
    "        favg_coord.append(favg_tot/psd_tot)  # divide by psd_tot integral to get favg\n",
    "    psdtot_ns.append(psdtot_coord)\n",
    "    favg_ns.append(favg_coord)\n",
    "    f_ns.append(f_coord)  # add to resample frqeuency lists\n",
    "    psd_ns.append(psd_coord)"
   ]
  },
  {
   "cell_type": "markdown",
   "metadata": {},
   "source": [
    "### Visualize the x,y, and z velocity frequencies and PSDs"
   ]
  },
  {
   "cell_type": "code",
   "execution_count": 16,
   "metadata": {},
   "outputs": [
    {
     "data": {
      "text/plain": [
       "<matplotlib.axes._subplots.AxesSubplot at 0x1a820d39390>"
      ]
     },
     "execution_count": 16,
     "metadata": {},
     "output_type": "execute_result"
    },
    {
     "data": {
      "image/png": "[encoded data removed]",
      "text/plain": [
       "<Figure size 432x288 with 2 Axes>"
      ]
     },
     "metadata": {
      "needs_background": "light"
     },
     "output_type": "display_data"
    }
   ],
   "source": [
    "# create a dataframe from the subject numbers and x-data, and add a binary column on age\n",
    "subjectarray = np.array(subject).reshape(-1,1)\n",
    "psdtot_ns_array = np.array(psdtot_ns)\n",
    "psdarray_x = psdtot_ns_array[:][:,0].reshape(-1,1)\n",
    "favg_ns_array = np.array(favg_ns)\n",
    "favgarray_x = favg_ns_array[:][:,0].reshape(-1,1)\n",
    "xdf = pd.DataFrame(np.hstack((subjectarray,psdarray_x,favgarray_x)))\n",
    "xdf.columns = ['subject no','xpsd avg','xfreq avg']\n",
    "xdf['older'] = np.where(xdf['subject no']>=200, 1, 0)\n",
    "xdf.plot.scatter(x='xpsd avg', y='xfreq avg', c='older', colormap='rainbow')"
   ]
  },
  {
   "cell_type": "code",
   "execution_count": 17,
   "metadata": {},
   "outputs": [
    {
     "data": {
      "text/plain": [
       "<matplotlib.axes._subplots.AxesSubplot at 0x1a82236a630>"
      ]
     },
     "execution_count": 17,
     "metadata": {},
     "output_type": "execute_result"
    },
    {
     "data": {
      "image/png": "[encoded data removed]",
      "text/plain": [
       "<Figure size 432x288 with 2 Axes>"
      ]
     },
     "metadata": {
      "needs_background": "light"
     },
     "output_type": "display_data"
    }
   ],
   "source": [
    "# create a dataframe from the subject numbers and y-data, and add a binary column on age\n",
    "subjectarray = np.array(subject).reshape(-1,1)\n",
    "psdtot_ns_array = np.array(psdtot_ns)\n",
    "psdarray_y = psdtot_ns_array[:][:,1].reshape(-1,1)\n",
    "favg_ns_array = np.array(favg_ns)\n",
    "favgarray_y = favg_ns_array[:][:,1].reshape(-1,1)\n",
    "ydf = pd.DataFrame(np.hstack((subjectarray,psdarray_y,favgarray_y)))\n",
    "ydf.columns = ['subject no','ypsd avg','yfreq avg']\n",
    "ydf['older'] = np.where(ydf['subject no']>=200, 1, 0)\n",
    "ydf.plot.scatter(x='ypsd avg', y='yfreq avg', c='older', colormap='rainbow')"
   ]
  },
  {
   "cell_type": "code",
   "execution_count": 18,
   "metadata": {},
   "outputs": [
    {
     "data": {
      "text/plain": [
       "<matplotlib.axes._subplots.AxesSubplot at 0x1a823032780>"
      ]
     },
     "execution_count": 18,
     "metadata": {},
     "output_type": "execute_result"
    },
    {
     "data": {
      "image/png": "[encoded data removed]",
      "text/plain": [
       "<Figure size 432x288 with 2 Axes>"
      ]
     },
     "metadata": {
      "needs_background": "light"
     },
     "output_type": "display_data"
    }
   ],
   "source": [
    "# create a dataframe from the subject numbers and z-data, and add a binary column on age\n",
    "subjectarray = np.array(subject).reshape(-1,1)\n",
    "psdtot_ns_array = np.array(psdtot_ns)\n",
    "psdarray_z = psdtot_ns_array[:][:,2].reshape(-1,1)\n",
    "favg_ns_array = np.array(favg_ns)\n",
    "favgarray_z = favg_ns_array[:][:,2].reshape(-1,1)\n",
    "zdf = pd.DataFrame(np.hstack((subjectarray,psdarray_z,favgarray_z)))\n",
    "zdf.columns = ['subject no','zpsd avg','zfreq avg']\n",
    "zdf['older'] = np.where(zdf['subject no']>=200, 1, 0)\n",
    "zdf.plot.scatter(x='zpsd avg', y='zfreq avg', c='older', colormap='rainbow')"
   ]
  },
  {
   "cell_type": "code",
   "execution_count": 19,
   "metadata": {},
   "outputs": [],
   "source": [
    "#set 'subject no' as index of dataframes\n",
    "xdf.set_index('subject no', inplace=True)\n",
    "ydf.set_index('subject no', inplace=True)\n",
    "zdf.set_index('subject no', inplace=True)"
   ]
  },
  {
   "cell_type": "code",
   "execution_count": 20,
   "metadata": {},
   "outputs": [
    {
     "data": {
      "text/html": [
       "<div>\n",
       "<style scoped>\n",
       "    .dataframe tbody tr th:only-of-type {\n",
       "        vertical-align: middle;\n",
       "    }\n",
       "\n",
       "    .dataframe tbody tr th {\n",
       "        vertical-align: top;\n",
       "    }\n",
       "\n",
       "    .dataframe thead th {\n",
       "        text-align: right;\n",
       "    }\n",
       "</style>\n",
       "<table border=\"1\" class=\"dataframe\">\n",
       "  <thead>\n",
       "    <tr style=\"text-align: right;\">\n",
       "      <th></th>\n",
       "      <th>xpsd avg</th>\n",
       "      <th>xfreq avg</th>\n",
       "      <th>ypsd avg</th>\n",
       "      <th>yfreq avg</th>\n",
       "      <th>zpsd avg</th>\n",
       "      <th>zfreq avg</th>\n",
       "      <th>older</th>\n",
       "    </tr>\n",
       "    <tr>\n",
       "      <th>subject no</th>\n",
       "      <th></th>\n",
       "      <th></th>\n",
       "      <th></th>\n",
       "      <th></th>\n",
       "      <th></th>\n",
       "      <th></th>\n",
       "      <th></th>\n",
       "    </tr>\n",
       "  </thead>\n",
       "  <tbody>\n",
       "    <tr>\n",
       "      <th>100.1</th>\n",
       "      <td>0.001027</td>\n",
       "      <td>3.271790</td>\n",
       "      <td>0.000219</td>\n",
       "      <td>3.563819</td>\n",
       "      <td>0.001316</td>\n",
       "      <td>3.253807</td>\n",
       "      <td>0</td>\n",
       "    </tr>\n",
       "    <tr>\n",
       "      <th>100.2</th>\n",
       "      <td>0.000960</td>\n",
       "      <td>3.363329</td>\n",
       "      <td>0.000208</td>\n",
       "      <td>3.427613</td>\n",
       "      <td>0.001020</td>\n",
       "      <td>3.165234</td>\n",
       "      <td>0</td>\n",
       "    </tr>\n",
       "    <tr>\n",
       "      <th>101.1</th>\n",
       "      <td>0.000924</td>\n",
       "      <td>3.367080</td>\n",
       "      <td>0.000181</td>\n",
       "      <td>3.490563</td>\n",
       "      <td>0.001085</td>\n",
       "      <td>3.671680</td>\n",
       "      <td>0</td>\n",
       "    </tr>\n",
       "    <tr>\n",
       "      <th>101.2</th>\n",
       "      <td>0.000991</td>\n",
       "      <td>3.405149</td>\n",
       "      <td>0.000324</td>\n",
       "      <td>3.613180</td>\n",
       "      <td>0.001719</td>\n",
       "      <td>3.741220</td>\n",
       "      <td>0</td>\n",
       "    </tr>\n",
       "    <tr>\n",
       "      <th>102.1</th>\n",
       "      <td>0.000568</td>\n",
       "      <td>3.335554</td>\n",
       "      <td>0.000309</td>\n",
       "      <td>3.541869</td>\n",
       "      <td>0.000904</td>\n",
       "      <td>3.393152</td>\n",
       "      <td>0</td>\n",
       "    </tr>\n",
       "  </tbody>\n",
       "</table>\n",
       "</div>"
      ],
      "text/plain": [
       "            xpsd avg  xfreq avg  ypsd avg  yfreq avg  zpsd avg  zfreq avg  \\\n",
       "subject no                                                                  \n",
       "100.1       0.001027   3.271790  0.000219   3.563819  0.001316   3.253807   \n",
       "100.2       0.000960   3.363329  0.000208   3.427613  0.001020   3.165234   \n",
       "101.1       0.000924   3.367080  0.000181   3.490563  0.001085   3.671680   \n",
       "101.2       0.000991   3.405149  0.000324   3.613180  0.001719   3.741220   \n",
       "102.1       0.000568   3.335554  0.000309   3.541869  0.000904   3.393152   \n",
       "\n",
       "            older  \n",
       "subject no         \n",
       "100.1           0  \n",
       "100.2           0  \n",
       "101.1           0  \n",
       "101.2           0  \n",
       "102.1           0  "
      ]
     },
     "execution_count": 20,
     "metadata": {},
     "output_type": "execute_result"
    }
   ],
   "source": [
    "#select for columns besides 'older' in xdf and ydf so it's not repeated\n",
    "xdf_avg = xdf[['xpsd avg', 'xfreq avg']]\n",
    "ydf_avg = ydf[['ypsd avg', 'yfreq avg']]\n",
    "\n",
    "#combine the dataframes\n",
    "vel_freq = pd.concat([xdf_avg,ydf_avg,zdf], axis=1)\n",
    "\n",
    "#export to csv\n",
    "vel_freq.to_csv('Velocity_Frequencies.csv', index=False)\n",
    "\n",
    "vel_freq.head()"
   ]
  },
  {
   "cell_type": "markdown",
   "metadata": {},
   "source": [
    "### Get the x,y, and z stats and make df"
   ]
  },
  {
   "cell_type": "code",
   "execution_count": 21,
   "metadata": {},
   "outputs": [
    {
     "data": {
      "text/html": [
       "<div>\n",
       "<style scoped>\n",
       "    .dataframe tbody tr th:only-of-type {\n",
       "        vertical-align: middle;\n",
       "    }\n",
       "\n",
       "    .dataframe tbody tr th {\n",
       "        vertical-align: top;\n",
       "    }\n",
       "\n",
       "    .dataframe thead th {\n",
       "        text-align: right;\n",
       "    }\n",
       "</style>\n",
       "<table border=\"1\" class=\"dataframe\">\n",
       "  <thead>\n",
       "    <tr style=\"text-align: right;\">\n",
       "      <th></th>\n",
       "      <th>time</th>\n",
       "      <th>x</th>\n",
       "      <th>y</th>\n",
       "      <th>z</th>\n",
       "      <th>subject</th>\n",
       "      <th>ID</th>\n",
       "      <th>xdiff</th>\n",
       "      <th>ydiff</th>\n",
       "      <th>zdiff</th>\n",
       "      <th>dist_from_l</th>\n",
       "    </tr>\n",
       "    <tr>\n",
       "      <th>time</th>\n",
       "      <th></th>\n",
       "      <th></th>\n",
       "      <th></th>\n",
       "      <th></th>\n",
       "      <th></th>\n",
       "      <th></th>\n",
       "      <th></th>\n",
       "      <th></th>\n",
       "      <th></th>\n",
       "      <th></th>\n",
       "    </tr>\n",
       "  </thead>\n",
       "  <tbody>\n",
       "    <tr>\n",
       "      <th>1970-01-01 00:00:00.000</th>\n",
       "      <td>0.000000</td>\n",
       "      <td>0.000000</td>\n",
       "      <td>0.000000</td>\n",
       "      <td>0.000000</td>\n",
       "      <td>0.0</td>\n",
       "      <td>100.1</td>\n",
       "      <td>NaN</td>\n",
       "      <td>NaN</td>\n",
       "      <td>NaN</td>\n",
       "      <td>NaN</td>\n",
       "    </tr>\n",
       "    <tr>\n",
       "      <th>1970-01-01 00:00:00.150</th>\n",
       "      <td>0.149359</td>\n",
       "      <td>-0.006481</td>\n",
       "      <td>-0.002391</td>\n",
       "      <td>0.001938</td>\n",
       "      <td>0.0</td>\n",
       "      <td>100.1</td>\n",
       "      <td>-0.006481</td>\n",
       "      <td>-0.002391</td>\n",
       "      <td>0.001938</td>\n",
       "      <td>0.007175</td>\n",
       "    </tr>\n",
       "    <tr>\n",
       "      <th>1970-01-01 00:00:00.300</th>\n",
       "      <td>0.298739</td>\n",
       "      <td>-0.000642</td>\n",
       "      <td>-0.007271</td>\n",
       "      <td>-0.002297</td>\n",
       "      <td>0.0</td>\n",
       "      <td>100.1</td>\n",
       "      <td>0.005839</td>\n",
       "      <td>-0.004880</td>\n",
       "      <td>-0.004235</td>\n",
       "      <td>0.008709</td>\n",
       "    </tr>\n",
       "    <tr>\n",
       "      <th>1970-01-01 00:00:00.450</th>\n",
       "      <td>0.448160</td>\n",
       "      <td>-0.006233</td>\n",
       "      <td>-0.005443</td>\n",
       "      <td>-0.003307</td>\n",
       "      <td>0.0</td>\n",
       "      <td>100.1</td>\n",
       "      <td>-0.005590</td>\n",
       "      <td>0.001828</td>\n",
       "      <td>-0.001010</td>\n",
       "      <td>0.005968</td>\n",
       "    </tr>\n",
       "    <tr>\n",
       "      <th>1970-01-01 00:00:00.600</th>\n",
       "      <td>0.597548</td>\n",
       "      <td>-0.005803</td>\n",
       "      <td>-0.002282</td>\n",
       "      <td>0.006714</td>\n",
       "      <td>0.0</td>\n",
       "      <td>100.1</td>\n",
       "      <td>0.000430</td>\n",
       "      <td>0.003161</td>\n",
       "      <td>0.010021</td>\n",
       "      <td>0.010517</td>\n",
       "    </tr>\n",
       "  </tbody>\n",
       "</table>\n",
       "</div>"
      ],
      "text/plain": [
       "                             time         x         y         z  subject  \\\n",
       "time                                                                       \n",
       "1970-01-01 00:00:00.000  0.000000  0.000000  0.000000  0.000000      0.0   \n",
       "1970-01-01 00:00:00.150  0.149359 -0.006481 -0.002391  0.001938      0.0   \n",
       "1970-01-01 00:00:00.300  0.298739 -0.000642 -0.007271 -0.002297      0.0   \n",
       "1970-01-01 00:00:00.450  0.448160 -0.006233 -0.005443 -0.003307      0.0   \n",
       "1970-01-01 00:00:00.600  0.597548 -0.005803 -0.002282  0.006714      0.0   \n",
       "\n",
       "                            ID     xdiff     ydiff     zdiff  dist_from_l  \n",
       "time                                                                       \n",
       "1970-01-01 00:00:00.000  100.1       NaN       NaN       NaN          NaN  \n",
       "1970-01-01 00:00:00.150  100.1 -0.006481 -0.002391  0.001938     0.007175  \n",
       "1970-01-01 00:00:00.300  100.1  0.005839 -0.004880 -0.004235     0.008709  \n",
       "1970-01-01 00:00:00.450  100.1 -0.005590  0.001828 -0.001010     0.005968  \n",
       "1970-01-01 00:00:00.600  100.1  0.000430  0.003161  0.010021     0.010517  "
      ]
     },
     "execution_count": 21,
     "metadata": {},
     "output_type": "execute_result"
    }
   ],
   "source": [
    "#set index of allfiles as the datetime of 'time'\n",
    "allfiles.index=pd.to_datetime(allfiles.time, unit='s')\n",
    "\n",
    "#make variable for unique values in 'ID'\n",
    "uni_id = np.unique(allfiles.ID)\n",
    "\n",
    "#make empty lists\n",
    "resampled = []\n",
    "x_tot_d = []\n",
    "y_tot_d = []\n",
    "z_tot_d = []\n",
    "tot_d = []\n",
    "xdiff_stats = []\n",
    "ydiff_stats = []\n",
    "zdiff_stats = []\n",
    "\n",
    "#loop through unique names in 'ID'\n",
    "for i in uni_id:\n",
    "    #make df for each unique value in ID, resample it by 100ms and mean\n",
    "    dfi = allfiles[allfiles.ID == i].resample('150ms').mean()\n",
    "    #get the offset vector\n",
    "    offset_vector = dfi.iloc[0,0:6]\n",
    "    offset_vector[-1] = 0\n",
    "    #subtract the offset vector to normalize the dfs\n",
    "    dfi = dfi - offset_vector\n",
    "    #make columns for the difference from previous x,y,z position\n",
    "    dfi['xdiff'] = dfi.x.diff()\n",
    "    dfi['ydiff'] = dfi.y.diff()\n",
    "    dfi['zdiff'] = dfi.z.diff()\n",
    "    #make column for total distance from last positon\n",
    "    dfi['dist_from_l'] = np.sqrt(dfi.xdiff**2 + dfi.ydiff**2 + dfi.zdiff**2)\n",
    "    #get absolute from the x,y, and z differences and sum the first 25 seconds\n",
    "    x_d = dfi.xdiff.abs()[:170].sum()\n",
    "    y_d = dfi.ydiff.abs()[:170].sum()\n",
    "    z_d = dfi.zdiff.abs()[:170].sum()\n",
    "    total_d = dfi.dist_from_l[:170].sum()\n",
    "    #get summary stats of \n",
    "    xdiff_s = dfi.xdiff.describe()\n",
    "    ydiff_s = dfi.ydiff.describe()\n",
    "    zdiff_s = dfi.zdiff.describe()\n",
    "    #add the total distances to respective variables\n",
    "    x_tot_d.append(x_d)\n",
    "    y_tot_d.append(y_d)\n",
    "    z_tot_d.append(z_d)\n",
    "    tot_d.append(total_d)\n",
    "    xdiff_stats.append(xdiff_s)\n",
    "    ydiff_stats.append(xdiff_s)\n",
    "    zdiff_stats.append(xdiff_s)\n",
    "    #add dfi to list of resampled dataframes\n",
    "    resampled.append(dfi)\n",
    "\n",
    "#combine the list of dataframes\n",
    "resample = pd.concat(resampled)\n",
    "\n",
    "#fill in the ID values that very lost from using the offset vector\n",
    "resample.ID = resample.ID.replace(0.0, np.nan).fillna(method='bfill')\n",
    "resample.head()"
   ]
  },
  {
   "cell_type": "code",
   "execution_count": 22,
   "metadata": {},
   "outputs": [],
   "source": [
    "#make empty lists\n",
    "new_x = []\n",
    "new_y = []\n",
    "new_z = []\n",
    "#loop through the length of the x,y,z diff_stats lists\n",
    "for i in range(len(xdiff_stats)):\n",
    "    #make each element into a df\n",
    "    datax = pd.DataFrame(xdiff_stats[i])\n",
    "    datay = pd.DataFrame(ydiff_stats[i])\n",
    "    dataz = pd.DataFrame(zdiff_stats[i])\n",
    "    #transform each df\n",
    "    datax = datax.T\n",
    "    datay = datay.T\n",
    "    dataz = dataz.T\n",
    "    #add each df to its own list\n",
    "    new_x.append(datax)\n",
    "    new_y.append(datay)\n",
    "    new_z.append(dataz)\n",
    "\n",
    "#make list for the new lists, x,y,z letters \n",
    "stats_list = [new_x,new_y,new_z]\n",
    "letter = ['x','y','z']\n",
    "#make empty list\n",
    "direction_df = []\n",
    "#loop through the length of stats lists\n",
    "for i in range(len(stats_list)):\n",
    "    #concatenate the list of translated dfs in the stats_list element\n",
    "    direction = pd.concat(stats_list[i])\n",
    "    #change the columns names of the combined df\n",
    "    direction.columns = [letter[i]+'count',letter[i]+'mean',letter[i]+'std',letter[i]+'min',letter[i]+'25%',letter[i]+'50%',letter[i]+'75%',letter[i]+'max']\n",
    "    #select for the columns that are not 'count'\n",
    "    direction = direction[[letter[i]+'mean',letter[i]+'std',letter[i]+'min',letter[i]+'25%',letter[i]+'50%',letter[i]+'75%',letter[i]+'max']]\n",
    "    #set index to the range of the length of one of the columns\n",
    "    direction.index = range(len(direction[letter[i]+'std']))\n",
    "    #add new df to direction_df\n",
    "    direction_df.append(direction)\n",
    "\n",
    "#combine the dfs in direction_df by their index column\n",
    "xyz_stats = pd.concat(direction_df, axis=1)\n",
    "#add an ID column\n",
    "xyz_stats['ID'] = uni_id\n",
    "#add an 'older' column\n",
    "xyz_stats['older'] = np.where(xyz_stats['ID']>=200, 1, 0)\n",
    "#get rid of 'ID' columns\n",
    "xyz_stats = xyz_stats.drop(['ID'], axis=1)\n",
    "\n",
    "#export to csv\n",
    "xyz_stats.to_csv('xyz_stats.csv', index=False)"
   ]
  },
  {
   "cell_type": "markdown",
   "metadata": {},
   "source": [
    "### Get the x,y, and z total distances and make df"
   ]
  },
  {
   "cell_type": "code",
   "execution_count": 23,
   "metadata": {},
   "outputs": [
    {
     "data": {
      "image/png": "[encoded data removed]",
      "text/plain": [
       "<Figure size 432x288 with 5 Axes>"
      ]
     },
     "metadata": {
      "needs_background": "light"
     },
     "output_type": "display_data"
    }
   ],
   "source": [
    "#make new dataframe\n",
    "distance = pd.DataFrame()\n",
    "\n",
    "#add columns for subject ID, x,y,and z total distance, and total distance\n",
    "distance['ID'] = np.unique(allfiles.ID)\n",
    "distance['x_tot_d'] = x_tot_d\n",
    "distance['y_tot_d'] = y_tot_d\n",
    "distance['z_tot_d'] = z_tot_d\n",
    "distance['tot_d'] = tot_d\n",
    "\n",
    "#make column 'older' so that if 'ID' value is greater than 200 than it is 1\n",
    "distance['older'] = np.where(distance.ID>=200, 1, 0)\n",
    "#drop ID column\n",
    "distance = distance.drop(columns=['ID'],axis=1)\n",
    "\n",
    "#plot\n",
    "distance.plot(subplots=True)\n",
    "plt.show()\n",
    "\n",
    "#export to csv\n",
    "distance.to_csv('total_distances.csv', index=False)"
   ]
  },
  {
   "cell_type": "code",
   "execution_count": null,
   "metadata": {},
   "outputs": [],
   "source": []
  }
 ],
 "metadata": {
  "kernelspec": {
   "display_name": "Python 3",
   "language": "python",
   "name": "python3"
  },
  "language_info": {
   "codemirror_mode": {
    "name": "ipython",
    "version": 3
   },
   "file_extension": ".py",
   "mimetype": "text/x-python",
   "name": "python",
   "nbconvert_exporter": "python",
   "pygments_lexer": "ipython3",
   "version": "3.7.3"
  }
 },
 "nbformat": 4,
 "nbformat_minor": 2
}
